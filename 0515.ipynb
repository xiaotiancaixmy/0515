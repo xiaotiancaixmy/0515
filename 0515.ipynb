{
 "cells": [
  {
   "cell_type": "code",
   "execution_count": null,
   "id": "d2fea07e-492c-4fc8-82eb-1dbed116d39b",
   "metadata": {},
   "outputs": [],
   "source": [
    "# Basic Concepts"
   ]
  },
  {
   "cell_type": "code",
   "execution_count": 2,
   "id": "74948367-7ac1-4764-8e8c-80fc83be44f1",
   "metadata": {},
   "outputs": [],
   "source": [
    "# power 1. if you want something just declare it. variable\n",
    "# power 2. magic world is real - number are real, do real things, real concequences. \n",
    "# cause/effect is absolute.\n",
    "# things to understand(structure), things to remeber and learn on the fly. \n",
    "# two most important concepts, variables/data structures (passive material) and functions (active actions). "
   ]
  },
  {
   "cell_type": "code",
   "execution_count": 7,
   "id": "236484b3-8ed3-4654-91ec-1f84210a208f",
   "metadata": {},
   "outputs": [],
   "source": [
    "# Variables"
   ]
  },
  {
   "cell_type": "code",
   "execution_count": 12,
   "id": "c6287813-e721-42e6-8a15-c3ed4595f8a3",
   "metadata": {},
   "outputs": [
    {
     "name": "stdout",
     "output_type": "stream",
     "text": [
      "Gandalf\n",
      "<class 'str'>\n",
      "850\n",
      "<class 'str'>\n"
     ]
    }
   ],
   "source": [
    "name = \"Gandalf\" #string type\n",
    "age = 850 #num\n",
    "age = \"850\"\n",
    "wizard_status = True #loom\n",
    "fly_speed_hours = 200\n",
    "\n",
    "print(name)\n",
    "type_of_object = type(name)\n",
    "print(type_of_object)\n",
    "\n",
    "print(age)\n",
    "print(type(age))"
   ]
  },
  {
   "cell_type": "code",
   "execution_count": null,
   "id": "6dc89333-e3ac-4fc6-a5f1-c92bbfa263eb",
   "metadata": {},
   "outputs": [],
   "source": []
  },
  {
   "cell_type": "code",
   "execution_count": null,
   "id": "7d8a01c3-5bef-477d-a5f6-d8f255fdcb2f",
   "metadata": {},
   "outputs": [],
   "source": [
    "# Basic Concepts"
   ]
  },
  {
   "cell_type": "code",
   "execution_count": 2,
   "id": "ac02c7b9-beec-42c9-9601-d03aede71a29",
   "metadata": {},
   "outputs": [],
   "source": [
    "# power 1. if you want something just declare it. variable\n",
    "# power 2. magic world is real - number are real, do real things, real concequences. \n",
    "# cause/effect is absolute.\n",
    "# things to understand(structure), things to remeber and learn on the fly. \n",
    "# two most important concepts, variables/data structures (passive material) and functions (active actions). "
   ]
  },
  {
   "cell_type": "code",
   "execution_count": 7,
   "id": "a4ffe7f1-82f4-46f1-964c-0f7ec7605bd2",
   "metadata": {},
   "outputs": [],
   "source": [
    "# Variables"
   ]
  },
  {
   "cell_type": "code",
   "execution_count": 16,
   "id": "3dc34d6a-cc7a-4a1b-9984-d38186f8a0fc",
   "metadata": {},
   "outputs": [
    {
     "name": "stdout",
     "output_type": "stream",
     "text": [
      "Gandalf\n",
      "<class 'str'>\n",
      "850\n",
      "<class 'str'>\n",
      "4800\n"
     ]
    }
   ],
   "source": [
    "name = \"Gandalf\" #string type\n",
    "age = 850 #num\n",
    "age = \"850\"\n",
    "wizard_status = True #bool\n",
    "fly_speed_hours = 200\n",
    "\n",
    "print(name)\n",
    "type_of_object = type(name)\n",
    "print(type_of_object)\n",
    "\n",
    "print(age)\n",
    "print(type(age))\n",
    "\n",
    "fly_speedperday = fly_speed_hours * 24\n",
    "print(fly_speedperday)"
   ]
  },
  {
   "cell_type": "code",
   "execution_count": 17,
   "id": "233cecd9-be05-429a-8911-d4aa161b2262",
   "metadata": {},
   "outputs": [],
   "source": [
    "#these are our clts\n",
    "client_id = [0,1,2,3,4]\n",
    "client_list = ['Gandalf','Han solo','Baby Yoda', 'Blade Runner', 'Harry Potter']\n",
    "client_age = [850, 35, 1, -20, 15]\n",
    "client_wizard_status = [True,False,False,False,True]"
   ]
  },
  {
   "cell_type": "code",
   "execution_count": null,
   "id": "4f0bbcac-69cf-4ac2-830a-8d26c938b131",
   "metadata": {},
   "outputs": [],
   "source": [
    "print(client_id)\n",
    "print (type(client_id))\n",
    "print (client_list)\n",
    "echo if(client_wizard_status) is True else False;"
   ]
  },
  {
   "cell_type": "code",
   "execution_count": null,
   "id": "26ba114d-7fa3-446a-92dd-6d2c823e7266",
   "metadata": {},
   "outputs": [],
   "source": []
  }
 ],
 "metadata": {
  "kernelspec": {
   "display_name": "Python 3 (ipykernel)",
   "language": "python",
   "name": "python3"
  },
  "language_info": {
   "codemirror_mode": {
    "name": "ipython",
    "version": 3
   },
   "file_extension": ".py",
   "mimetype": "text/x-python",
   "name": "python",
   "nbconvert_exporter": "python",
   "pygments_lexer": "ipython3",
   "version": "3.11.3"
  }
 },
 "nbformat": 4,
 "nbformat_minor": 5
}
